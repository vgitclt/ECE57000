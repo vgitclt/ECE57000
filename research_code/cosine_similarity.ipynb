{
  "cells": [
    {
      "cell_type": "markdown",
      "metadata": {
        "id": "view-in-github",
        "colab_type": "text"
      },
      "source": [
        "<a href=\"https://colab.research.google.com/github/vgitclt/ECE57000/blob/main/cosine_similarity.ipynb\" target=\"_parent\"><img src=\"https://colab.research.google.com/assets/colab-badge.svg\" alt=\"Open In Colab\"/></a>"
      ]
    },
    {
      "cell_type": "markdown",
      "source": [
        "Here's how to compute cosine similarity of text using a Colab notebook:\n",
        "\n",
        "1.  **Import Libraries:**"
      ],
      "metadata": {
        "id": "DPxm7sYRuy2y"
      }
    },
    {
      "cell_type": "code",
      "source": [
        "from sklearn.feature_extraction.text import TfidfVectorizer\n",
        "from sklearn.metrics.pairwise import cosine_similarity"
      ],
      "outputs": [],
      "execution_count": 68,
      "metadata": {
        "id": "73Xg9uGuuy20"
      }
    },
    {
      "cell_type": "markdown",
      "source": [
        "2.  **Prepare Text Data:** Create a list of text documents."
      ],
      "metadata": {
        "id": "H68vV-aYuy20"
      }
    },
    {
      "cell_type": "code",
      "source": [
        "answer = [\n",
        "        \"This answer says hawaii is a great destination due to the weather\",\n",
        "        \"This answer says the weather in hawaii is always sunny and nice\",\n",
        "        \"evalbot answers is the best\",\n",
        "        \"evalbot answers is the best\",\n",
        "    ]\n",
        "vectorizer = TfidfVectorizer()\n",
        "tfidf_matrix = vectorizer.fit_transform(answer)\n",
        "cosine_sim_matrix = cosine_similarity(tfidf_matrix)"
      ],
      "outputs": [],
      "execution_count": 69,
      "metadata": {
        "id": "QbSTmYbkuy21"
      }
    },
    {
      "cell_type": "markdown",
      "source": [
        "5.  **Display Results:**"
      ],
      "metadata": {
        "id": "dvFIH6kouy21"
      }
    },
    {
      "cell_type": "code",
      "source": [
        "# @title\n",
        "#print(cosine_sim_matrix)"
      ],
      "outputs": [],
      "execution_count": 70,
      "metadata": {
        "collapsed": true,
        "id": "BeE083Umuy22"
      }
    },
    {
      "cell_type": "markdown",
      "source": [
        "This will print a matrix where each element \\[i, j] represents the cosine similarity between answer i and answer j. A value of 1 indicates identical answers, while 0 indicates no similarity.\n",
        "\n",
        "6.  **Access Specific Similarity Scores:**"
      ],
      "metadata": {
        "id": "645XP25Quy22"
      }
    },
    {
      "cell_type": "code",
      "source": [
        "similarity_answer1_answer2 = cosine_sim_matrix[0, 1]\n",
        "print(f\"Cosine similarity between answers 1 and 2: {similarity_answer1_answer2}\")\n",
        "similarity_answer3_answer4 = cosine_sim_matrix[2, 3]\n",
        "print(f\"Cosine similarity between answers 3 and 4: {similarity_answer3_answer4}\")"
      ],
      "outputs": [
        {
          "output_type": "stream",
          "name": "stdout",
          "text": [
            "Cosine similarity between answers 1 and 2: 0.4488738674578079\n",
            "Cosine similarity between answers 3 and 4: 1.0000000000000002\n"
          ]
        }
      ],
      "execution_count": 71,
      "metadata": {
        "colab": {
          "base_uri": "https://localhost:8080/"
        },
        "id": "f5uYkxA3uy22",
        "outputId": "cf8d3feb-30b3-4ba9-93ff-32983720cf1c"
      }
    }
  ],
  "metadata": {
    "colab": {
      "provenance": [],
      "include_colab_link": true
    },
    "kernelspec": {
      "display_name": "Python 3",
      "name": "python3"
    }
  },
  "nbformat": 4,
  "nbformat_minor": 0
}